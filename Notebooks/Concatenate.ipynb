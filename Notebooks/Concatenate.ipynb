{
 "cells": [
  {
   "cell_type": "markdown",
   "metadata": {
    "colab_type": "text",
    "id": "view-in-github"
   },
   "source": [
    "<a href=\"https://colab.research.google.com/github/capitallatera/Project_1/blob/master/Concatenate.ipynb\" target=\"_parent\"><img src=\"https://colab.research.google.com/assets/colab-badge.svg\" alt=\"Open In Colab\"/></a>"
   ]
  },
  {
   "cell_type": "code",
   "execution_count": 0,
   "metadata": {
    "colab": {},
    "colab_type": "code",
    "id": "14KAZDSo3NWR",
    "outputId": "811e9a5a-1bc8-4005-bbc8-8b7b6af2928a"
   },
   "outputs": [
    {
     "name": "stdout",
     "output_type": "stream",
     "text": [
      "Concatenate.ipynb  dataset_1.xlsx  dataset_2.xlsx  dataset_3.xlsx\r\n"
     ]
    }
   ],
   "source": [
    "ls"
   ]
  },
  {
   "cell_type": "code",
   "execution_count": 0,
   "metadata": {
    "colab": {},
    "colab_type": "code",
    "id": "pVD__QnB3NW0"
   },
   "outputs": [],
   "source": [
    "# Importing  Libraries\n",
    "import pandas as pd\n",
    "import numpy as np"
   ]
  },
  {
   "cell_type": "markdown",
   "metadata": {
    "colab_type": "text",
    "id": "UoLlBRdC3NXG"
   },
   "source": [
    "### Reading excel file"
   ]
  },
  {
   "cell_type": "code",
   "execution_count": 0,
   "metadata": {
    "colab": {},
    "colab_type": "code",
    "id": "j61CBjQP3NXI",
    "outputId": "efd72629-1a56-4f4a-e0a9-19cd070ff9b4"
   },
   "outputs": [
    {
     "data": {
      "text/plain": [
       "9164"
      ]
     },
     "execution_count": 13,
     "metadata": {
      "tags": []
     },
     "output_type": "execute_result"
    }
   ],
   "source": [
    "data_1=pd.read_excel(\"dataset_1.xlsx\")\n",
    "data_1.shape[0]"
   ]
  },
  {
   "cell_type": "code",
   "execution_count": 0,
   "metadata": {
    "colab": {},
    "colab_type": "code",
    "id": "43FyHpzW3NXX",
    "outputId": "67de7601-d2c7-4913-9b9e-cceb956b8735"
   },
   "outputs": [
    {
     "data": {
      "text/plain": [
       "487"
      ]
     },
     "execution_count": 14,
     "metadata": {
      "tags": []
     },
     "output_type": "execute_result"
    }
   ],
   "source": [
    "data_2=pd.read_excel(\"dataset_2.xlsx\")\n",
    "data_2.shape[0]"
   ]
  },
  {
   "cell_type": "code",
   "execution_count": 0,
   "metadata": {
    "colab": {},
    "colab_type": "code",
    "id": "qxucasFZ3NXj",
    "outputId": "63bfc664-e076-47d7-b8ca-f0e19c6f3621"
   },
   "outputs": [
    {
     "data": {
      "text/plain": [
       "220"
      ]
     },
     "execution_count": 15,
     "metadata": {
      "tags": []
     },
     "output_type": "execute_result"
    }
   ],
   "source": [
    "data_3=pd.read_excel(\"dataset_3.xlsx\")\n",
    "data_3.shape[0]"
   ]
  },
  {
   "cell_type": "markdown",
   "metadata": {
    "colab_type": "text",
    "id": "hjnieuSp3NXv"
   },
   "source": [
    "###  Making the names of columns same on all dataset"
   ]
  },
  {
   "cell_type": "code",
   "execution_count": 0,
   "metadata": {
    "colab": {},
    "colab_type": "code",
    "id": "tqo2ZnDe3NXx",
    "outputId": "c627402e-4697-43c1-ba3d-16a2fd21941d"
   },
   "outputs": [
    {
     "data": {
      "text/plain": [
       "Index(['Mobile Phone', ',Name', ',Content', ',Date', ',Message Type', ',Read',\n",
       "       'Unnamed: 6'],\n",
       "      dtype='object')"
      ]
     },
     "execution_count": 18,
     "metadata": {
      "tags": []
     },
     "output_type": "execute_result"
    }
   ],
   "source": [
    "data_1.columns"
   ]
  },
  {
   "cell_type": "code",
   "execution_count": 0,
   "metadata": {
    "colab": {},
    "colab_type": "code",
    "id": "3L1dNcVw3NX9",
    "outputId": "bd6a6b59-b841-4bae-d337-4ede79aa104e"
   },
   "outputs": [
    {
     "data": {
      "text/plain": [
       "Index(['Mobile Phone', ',Name', ',Content', ',Date', ',Message Type', ',Read',\n",
       "       'Unnamed: 6'],\n",
       "      dtype='object')"
      ]
     },
     "execution_count": 19,
     "metadata": {
      "tags": []
     },
     "output_type": "execute_result"
    }
   ],
   "source": [
    "data_2.columns"
   ]
  },
  {
   "cell_type": "code",
   "execution_count": 0,
   "metadata": {
    "colab": {},
    "colab_type": "code",
    "id": "6svvKddG3NYF",
    "outputId": "a38175c4-125a-4f55-ccdd-faba0cf12423"
   },
   "outputs": [
    {
     "data": {
      "text/plain": [
       "Index(['ID', 'Phone', 'Content', 'ShowName', 'Date', 'MsgType', 'Read'], dtype='object')"
      ]
     },
     "execution_count": 20,
     "metadata": {
      "tags": []
     },
     "output_type": "execute_result"
    }
   ],
   "source": [
    "data_3.columns"
   ]
  },
  {
   "cell_type": "code",
   "execution_count": 0,
   "metadata": {
    "colab": {},
    "colab_type": "code",
    "id": "DpwKvDf-3NYO",
    "outputId": "96b93b1c-2e13-44c4-81eb-d2a196b05ba4"
   },
   "outputs": [
    {
     "data": {
      "text/plain": [
       "array([ True,  True,  True,  True,  True,  True,  True])"
      ]
     },
     "execution_count": 38,
     "metadata": {
      "tags": []
     },
     "output_type": "execute_result"
    }
   ],
   "source": [
    "data_1.columns==data_2.columns"
   ]
  },
  {
   "cell_type": "code",
   "execution_count": 0,
   "metadata": {
    "colab": {},
    "colab_type": "code",
    "id": "9KgAbenG3NYY"
   },
   "outputs": [],
   "source": [
    "## Removing \",\" from the columns name\n",
    "\n",
    "data_1.rename({',Name':'Name', ',Content':'Content', ',Date':'Date', ',Message Type':'Message Type', ',Read':'Read'},axis='columns',inplace=True)\n",
    "data_2.rename({',Name':'Name', ',Content':'Content', ',Date':'Date', ',Message Type':'Message Type', ',Read':'Read'},axis='columns',inplace=True)"
   ]
  },
  {
   "cell_type": "code",
   "execution_count": 0,
   "metadata": {
    "colab": {},
    "colab_type": "code",
    "id": "sjGg5rka3NYh",
    "outputId": "45cf9cad-98fd-478b-cf0e-4eaa0a73200a"
   },
   "outputs": [
    {
     "data": {
      "text/plain": [
       "array([ True,  True,  True,  True,  True,  True,  True])"
      ]
     },
     "execution_count": 54,
     "metadata": {
      "tags": []
     },
     "output_type": "execute_result"
    }
   ],
   "source": [
    "data_1.columns==data_2.columns"
   ]
  },
  {
   "cell_type": "code",
   "execution_count": 0,
   "metadata": {
    "colab": {},
    "colab_type": "code",
    "id": "eolfOMbW3NYr"
   },
   "outputs": [],
   "source": [
    "data_3.rename({'ID':\"Unnamed: 6\", 'Phone':'Mobile Phone', 'Content':'Content', 'ShowName':'Name', 'Date':'Date', 'MsgType':'Message Type', 'Read':'Read'},axis='columns',inplace=True)"
   ]
  },
  {
   "cell_type": "code",
   "execution_count": 0,
   "metadata": {
    "colab": {},
    "colab_type": "code",
    "id": "K-fJr7eb3NY1",
    "outputId": "0a691118-2e30-4c33-a7e3-f59a3d558250"
   },
   "outputs": [
    {
     "data": {
      "text/plain": [
       "Index(['Unnamed: 6', 'Mobile Phone', 'Content', 'Name', 'Date', 'Message Type',\n",
       "       'Read'],\n",
       "      dtype='object')"
      ]
     },
     "execution_count": 60,
     "metadata": {
      "tags": []
     },
     "output_type": "execute_result"
    }
   ],
   "source": [
    "data_3.columns"
   ]
  },
  {
   "cell_type": "code",
   "execution_count": 0,
   "metadata": {
    "colab": {},
    "colab_type": "code",
    "id": "bIIuosI53NY_",
    "outputId": "585a2385-d06b-40c3-caae-00dff7905da7"
   },
   "outputs": [
    {
     "name": "stderr",
     "output_type": "stream",
     "text": [
      "/home/anil/anaconda3/lib/python3.7/site-packages/ipykernel_launcher.py:1: FutureWarning: Sorting because non-concatenation axis is not aligned. A future version\n",
      "of pandas will change to not sort by default.\n",
      "\n",
      "To accept the future behavior, pass 'sort=False'.\n",
      "\n",
      "To retain the current behavior and silence the warning, pass 'sort=True'.\n",
      "\n",
      "  \"\"\"Entry point for launching an IPython kernel.\n"
     ]
    }
   ],
   "source": [
    "output=pd.concat([data_1,data_2,data_3],axis=0,ignore_index=True)"
   ]
  },
  {
   "cell_type": "code",
   "execution_count": 0,
   "metadata": {
    "colab": {},
    "colab_type": "code",
    "id": "jJ3eewVb3NZH",
    "outputId": "b4a2ca35-9fa7-42a8-b135-6324f279f8de"
   },
   "outputs": [
    {
     "name": "stdout",
     "output_type": "stream",
     "text": [
      "Total data:  9871\n"
     ]
    }
   ],
   "source": [
    "print(\"Total data: \",data_1.shape[0]+data_2.shape[0]+data_3.shape[0])"
   ]
  },
  {
   "cell_type": "code",
   "execution_count": 0,
   "metadata": {
    "colab": {},
    "colab_type": "code",
    "id": "29u84mWJ3NZR",
    "outputId": "2e1691a7-52fa-4625-b854-7e48112c1703"
   },
   "outputs": [
    {
     "data": {
      "text/plain": [
       "9871"
      ]
     },
     "execution_count": 66,
     "metadata": {
      "tags": []
     },
     "output_type": "execute_result"
    }
   ],
   "source": [
    "output.shape[0]"
   ]
  },
  {
   "cell_type": "code",
   "execution_count": 0,
   "metadata": {
    "colab": {},
    "colab_type": "code",
    "id": "R4r7foWy3NZa"
   },
   "outputs": [],
   "source": [
    "output.to_csv(\"combined.csv\")\n",
    "output.to_excel(\"combined.xlsx\")"
   ]
  },
  {
   "cell_type": "code",
   "execution_count": 0,
   "metadata": {
    "colab": {},
    "colab_type": "code",
    "id": "UwJX7gN13NZh",
    "outputId": "0a245f9d-7a3e-41a2-eb00-b616d0f04bd1"
   },
   "outputs": [
    {
     "name": "stdout",
     "output_type": "stream",
     "text": [
      "combined.csv   Concatenate.ipynb  dataset_2.xlsx\r\n",
      "combined.xlsx  dataset_1.xlsx     dataset_3.xlsx\r\n"
     ]
    }
   ],
   "source": [
    "ls"
   ]
  },
  {
   "cell_type": "code",
   "execution_count": 0,
   "metadata": {
    "colab": {},
    "colab_type": "code",
    "id": "jUwjDSjx3NZp",
    "outputId": "778bbc78-f4c3-46bd-e9a2-7a2319e51f04"
   },
   "outputs": [
    {
     "data": {
      "text/html": [
       "<div>\n",
       "<style scoped>\n",
       "    .dataframe tbody tr th:only-of-type {\n",
       "        vertical-align: middle;\n",
       "    }\n",
       "\n",
       "    .dataframe tbody tr th {\n",
       "        vertical-align: top;\n",
       "    }\n",
       "\n",
       "    .dataframe thead th {\n",
       "        text-align: right;\n",
       "    }\n",
       "</style>\n",
       "<table border=\"1\" class=\"dataframe\">\n",
       "  <thead>\n",
       "    <tr style=\"text-align: right;\">\n",
       "      <th></th>\n",
       "      <th>Unnamed: 0</th>\n",
       "      <th>Content</th>\n",
       "      <th>Date</th>\n",
       "      <th>Message Type</th>\n",
       "      <th>Mobile Phone</th>\n",
       "      <th>Name</th>\n",
       "      <th>Read</th>\n",
       "      <th>Unnamed: 6</th>\n",
       "    </tr>\n",
       "  </thead>\n",
       "  <tbody>\n",
       "    <tr>\n",
       "      <td>0</td>\n",
       "      <td>0</td>\n",
       "      <td>,\"While receiving an international call, if an...</td>\n",
       "      <td>\",2019/08/05 07:12:32</td>\n",
       "      <td>,1</td>\n",
       "      <td>AP-DOTPUN</td>\n",
       "      <td>,AP-DOTPUN</td>\n",
       "      <td>,1</td>\n",
       "      <td>,35029_407</td>\n",
       "    </tr>\n",
       "    <tr>\n",
       "      <td>1</td>\n",
       "      <td>1</td>\n",
       "      <td>,Non-violence is the greatest force at the dis...</td>\n",
       "      <td>,2019/10/02 20:22:52</td>\n",
       "      <td>,1</td>\n",
       "      <td>AP-DOTPUN</td>\n",
       "      <td>,AP-DOTPUN</td>\n",
       "      <td>,1</td>\n",
       "      <td>,42235_407</td>\n",
       "    </tr>\n",
       "    <tr>\n",
       "      <td>2</td>\n",
       "      <td>2</td>\n",
       "      <td>,\"इस गांधी जयंतीआइए, बापू को समर्पित करें एक स...</td>\n",
       "      <td>\",2019/10/03 20:34:18</td>\n",
       "      <td>,1</td>\n",
       "      <td>AP-DOTPUN</td>\n",
       "      <td>,AP-DOTPUN</td>\n",
       "      <td>,1</td>\n",
       "      <td>,42396_407</td>\n",
       "    </tr>\n",
       "    <tr>\n",
       "      <td>3</td>\n",
       "      <td>3</td>\n",
       "      <td>,To call woman the weaker sex is a libel; it i...</td>\n",
       "      <td>,2019/10/11 07:17:48</td>\n",
       "      <td>,1</td>\n",
       "      <td>AP-DOTPUN</td>\n",
       "      <td>,AP-DOTPUN</td>\n",
       "      <td>,1</td>\n",
       "      <td>,43534_407</td>\n",
       "    </tr>\n",
       "    <tr>\n",
       "      <td>4</td>\n",
       "      <td>4</td>\n",
       "      <td>,\"I attach the highest importance to quality, ...</td>\n",
       "      <td>\",2019/10/16 20:14:55</td>\n",
       "      <td>,1</td>\n",
       "      <td>AP-DOTPUN</td>\n",
       "      <td>,AP-DOTPUN</td>\n",
       "      <td>,1</td>\n",
       "      <td>,44190_407</td>\n",
       "    </tr>\n",
       "  </tbody>\n",
       "</table>\n",
       "</div>"
      ],
      "text/plain": [
       "   Unnamed: 0                                            Content  \\\n",
       "0           0  ,\"While receiving an international call, if an...   \n",
       "1           1  ,Non-violence is the greatest force at the dis...   \n",
       "2           2  ,\"इस गांधी जयंतीआइए, बापू को समर्पित करें एक स...   \n",
       "3           3  ,To call woman the weaker sex is a libel; it i...   \n",
       "4           4  ,\"I attach the highest importance to quality, ...   \n",
       "\n",
       "                    Date Message Type Mobile Phone        Name Read  \\\n",
       "0  \",2019/08/05 07:12:32           ,1    AP-DOTPUN  ,AP-DOTPUN   ,1   \n",
       "1   ,2019/10/02 20:22:52           ,1    AP-DOTPUN  ,AP-DOTPUN   ,1   \n",
       "2  \",2019/10/03 20:34:18           ,1    AP-DOTPUN  ,AP-DOTPUN   ,1   \n",
       "3   ,2019/10/11 07:17:48           ,1    AP-DOTPUN  ,AP-DOTPUN   ,1   \n",
       "4  \",2019/10/16 20:14:55           ,1    AP-DOTPUN  ,AP-DOTPUN   ,1   \n",
       "\n",
       "   Unnamed: 6  \n",
       "0  ,35029_407  \n",
       "1  ,42235_407  \n",
       "2  ,42396_407  \n",
       "3  ,43534_407  \n",
       "4  ,44190_407  "
      ]
     },
     "execution_count": 71,
     "metadata": {
      "tags": []
     },
     "output_type": "execute_result"
    }
   ],
   "source": [
    "df=pd.read_csv(\"combined.csv\")\n",
    "df.head()"
   ]
  },
  {
   "cell_type": "code",
   "execution_count": 0,
   "metadata": {
    "colab": {},
    "colab_type": "code",
    "id": "Clhg9pdP3NZx"
   },
   "outputs": [],
   "source": []
  },
  {
   "cell_type": "code",
   "execution_count": 0,
   "metadata": {
    "colab": {},
    "colab_type": "code",
    "id": "iVF4dLE93NZ4"
   },
   "outputs": [],
   "source": []
  },
  {
   "cell_type": "code",
   "execution_count": 0,
   "metadata": {
    "colab": {},
    "colab_type": "code",
    "id": "Pdees23Z3NaD"
   },
   "outputs": [],
   "source": []
  }
 ],
 "metadata": {
  "colab": {
   "include_colab_link": true,
   "name": "Concatenate.ipynb",
   "provenance": []
  },
  "kernelspec": {
   "display_name": "Python 3",
   "language": "python",
   "name": "python3"
  },
  "language_info": {
   "codemirror_mode": {
    "name": "ipython",
    "version": 3
   },
   "file_extension": ".py",
   "mimetype": "text/x-python",
   "name": "python",
   "nbconvert_exporter": "python",
   "pygments_lexer": "ipython3",
   "version": "3.7.6"
  }
 },
 "nbformat": 4,
 "nbformat_minor": 1
}
